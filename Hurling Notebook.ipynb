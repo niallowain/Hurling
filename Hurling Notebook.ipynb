{
 "cells": [
  {
   "cell_type": "markdown",
   "metadata": {},
   "source": [
    "# Hurling Notebook\n"
   ]
  },
  {
   "cell_type": "code",
   "execution_count": 1,
   "metadata": {},
   "outputs": [],
   "source": [
    "import pandas as pd\n",
    "import numpy as np\n",
    "import networkx as nx\n",
    "import matplotlib.pyplot as plt"
   ]
  },
  {
   "cell_type": "markdown",
   "metadata": {},
   "source": [
    "We will create a list of the positions, "
   ]
  },
  {
   "cell_type": "code",
   "execution_count": 3,
   "metadata": {},
   "outputs": [],
   "source": [
    "df_Tipp_to = pd.read_csv('Tipp_to.csv')['To']"
   ]
  },
  {
   "cell_type": "code",
   "execution_count": 4,
   "metadata": {},
   "outputs": [],
   "source": [
    "df_Tipp_from = pd.read_csv('Tipp_from.csv')['From']"
   ]
  },
  {
   "cell_type": "code",
   "execution_count": 5,
   "metadata": {},
   "outputs": [],
   "source": [
    "df_KK_from = pd.read_csv('Kilkenny_1.csv')['From']"
   ]
  },
  {
   "cell_type": "code",
   "execution_count": 6,
   "metadata": {},
   "outputs": [],
   "source": [
    "df_KK_to = pd.read_csv('Kilkenny_2.csv')['To']"
   ]
  },
  {
   "cell_type": "code",
   "execution_count": 7,
   "metadata": {},
   "outputs": [],
   "source": [
    "adjacency_Tipp_matrix = np.zeros((16,16))\n",
    "tipp_len = len(df_Tipp_from)\n",
    "problem_list = ['score','free','save','wide', 'miss',' Wide','Miss','G','Goal' ,'Free','65','goal','point','Point','Save','Wide','Block','Score']\n",
    "for i in range(0,tipp_len):\n",
    "    if df_Tipp_to[i] in problem_list  :\n",
    "        adjacency_Tipp_matrix = adjacency_Tipp_matrix\n",
    "    else:\n",
    "        from_val = int(df_Tipp_from[i])\n",
    "        to_val = int(df_Tipp_to[i])\n",
    "        adjacency_Tipp_matrix[from_val, to_val] = (adjacency_Tipp_matrix[from_val, to_val] + 1 )\n",
    "        "
   ]
  },
  {
   "cell_type": "code",
   "execution_count": 8,
   "metadata": {},
   "outputs": [
    {
     "name": "stdout",
     "output_type": "stream",
     "text": [
      "[[ 0.  0.  0.  0.  0.  0.  0.  0.  0.  0.  0.  0.  1.  0.  1.  0.]\n",
      " [11.  0.  1.  2.  3.  2.  2.  1.  2.  0.  3.  1.  0.  0.  0.  2.]\n",
      " [ 4.  1.  0.  0.  0.  0.  0.  1.  2.  1.  1.  4.  1.  0.  2.  0.]\n",
      " [ 3.  1.  0.  0.  0.  0.  1.  2.  2.  2.  0.  0.  0.  0.  1.  0.]\n",
      " [ 5.  0.  0.  2.  0.  1.  1.  0.  1.  0.  1.  0.  0.  0.  0.  1.]\n",
      " [ 2.  0.  0.  0.  0.  0.  2.  0.  1.  0.  2.  0.  0.  1.  0.  0.]\n",
      " [ 4.  0.  0.  2.  0.  0.  0.  0.  5.  1.  1.  0.  0.  1.  0.  0.]\n",
      " [ 0.  0.  0.  0.  1.  0.  2.  0.  0.  0.  0.  0.  3.  1.  0.  4.]\n",
      " [ 5.  1.  0.  1.  0.  0.  1.  2.  0.  1.  3.  1.  3.  3.  2.  1.]\n",
      " [ 3.  0.  0.  0.  0.  0.  0.  0.  3.  0.  2.  3.  1.  0.  0.  0.]\n",
      " [ 8.  0.  0.  0.  0.  0.  1.  1.  1.  0.  0.  3.  1.  0.  0.  1.]\n",
      " [ 6.  0.  0.  1.  0.  0.  0.  0.  0.  1.  2.  0.  1.  1.  1.  0.]\n",
      " [ 0.  0.  0.  0.  0.  0.  0.  0.  0.  2.  0.  0.  0.  1.  3.  1.]\n",
      " [ 2.  0.  0.  0.  0.  0.  1.  0.  0.  0.  0.  1.  1.  0.  1.  1.]\n",
      " [ 6.  0.  0.  0.  0.  0.  0.  0.  0.  1.  0.  1.  0.  0.  0.  1.]\n",
      " [ 4.  0.  0.  0.  0.  0.  0.  0.  1.  0.  0.  0.  1.  1.  1.  0.]]\n"
     ]
    }
   ],
   "source": [
    "print(adjacency_Tipp_matrix)"
   ]
  },
  {
   "cell_type": "code",
   "execution_count": 9,
   "metadata": {},
   "outputs": [],
   "source": [
    "adjacency_KK_matrix = np.zeros((16,16))\n",
    "KK_len = len(df_KK_from)\n",
    "problem_list = ['score','free','save','wide', 'miss', 'Free','65','goal','point','Point','Save','Wide','Block','Score']\n",
    "for i in range(0,KK_len):\n",
    "    if df_KK_to[i] in problem_list  :\n",
    "        adjacency_KK_matrix = adjacency_KK_matrix\n",
    "    else:\n",
    "        from_val = int(df_KK_from[i])\n",
    "        to_val = int(df_KK_to[i])\n",
    "        adjacency_KK_matrix[from_val, to_val] = (adjacency_KK_matrix[from_val, to_val] + 1 )"
   ]
  },
  {
   "cell_type": "code",
   "execution_count": 170,
   "metadata": {},
   "outputs": [],
   "source": [
    "total_matrix = adjacency_KK_matrix + adjacency_Tipp_matrix"
   ]
  },
  {
   "cell_type": "code",
   "execution_count": 171,
   "metadata": {},
   "outputs": [
    {
     "name": "stdout",
     "output_type": "stream",
     "text": [
      "[[ 0.  0.  0.  0.  0.  0.  0.  0.  0.  0.  0.  0.  2.  0.  1.  0.]\n",
      " [38.  0.  4.  8.  4.  3.  2.  2.  2.  1.  4.  2.  5.  1.  0.  2.]\n",
      " [ 7.  1.  0.  0.  0.  0.  0.  2.  2.  3.  1.  5.  1.  2.  2.  0.]\n",
      " [ 5.  2.  0.  0.  0.  0.  4.  6.  2.  2.  4.  1.  0.  1.  1.  1.]\n",
      " [ 6.  1.  0.  2.  0.  3.  1.  1.  1.  1.  1.  0.  0.  1.  0.  1.]\n",
      " [ 6.  0.  0.  0.  1.  0.  2.  1.  1.  1.  3.  2.  0.  1.  0.  0.]\n",
      " [ 9.  0.  0.  2.  0.  1.  0.  2.  5.  2.  1.  2.  0.  2.  0.  0.]\n",
      " [ 6.  0.  1.  0.  2.  0.  4.  0.  0.  0.  3.  0.  3.  2.  2.  5.]\n",
      " [10.  1.  0.  2.  0.  2.  1.  3.  0.  1.  3.  2.  3.  3.  3.  2.]\n",
      " [10.  0.  0.  0.  0.  0.  0.  2.  4.  0.  2.  3.  1.  0.  0.  0.]\n",
      " [11.  0.  1.  0.  0.  1.  1.  1.  1.  0.  0.  3.  2.  1.  0.  1.]\n",
      " [ 8.  0.  0.  1.  0.  0.  2.  0.  0.  4.  3.  0.  1.  1.  2.  0.]\n",
      " [ 2.  0.  0.  0.  0.  0.  0.  1.  1.  3.  0.  1.  0.  1.  4.  1.]\n",
      " [ 6.  0.  0.  0.  0.  0.  1.  0.  0.  0.  0.  2.  3.  0.  1.  1.]\n",
      " [ 7.  0.  0.  0.  0.  0.  0.  0.  0.  1.  0.  1.  0.  2.  0.  1.]\n",
      " [ 5.  0.  0.  0.  0.  0.  0.  0.  2.  0.  0.  0.  1.  1.  1.  0.]]\n"
     ]
    }
   ],
   "source": [
    "print(total_matrix)"
   ]
  },
  {
   "cell_type": "code",
   "execution_count": 12,
   "metadata": {},
   "outputs": [
    {
     "data": {
      "text/plain": [
       "array([136.,   5.,   6.,  15.,   7.,  10.,  18.,  21.,  21.,  19.,  25.,\n",
       "        24.,  22.,  19.,  17.,  15.])"
      ]
     },
     "execution_count": 12,
     "metadata": {},
     "output_type": "execute_result"
    }
   ],
   "source": [
    "sum(total_matrix)"
   ]
  },
  {
   "cell_type": "code",
   "execution_count": 13,
   "metadata": {},
   "outputs": [],
   "source": [
    "no_misses = total_matrix[1:16,1:16]"
   ]
  },
  {
   "cell_type": "markdown",
   "metadata": {},
   "source": [
    "The follwing is a calculation of the Weightedi in-degree, $C_{WID}$."
   ]
  },
  {
   "cell_type": "markdown",
   "metadata": {},
   "source": [
    "This measure summarises the number of successfully received passes for a player of certain position."
   ]
  },
  {
   "cell_type": "markdown",
   "metadata": {},
   "source": [
    "This may measure the trustworthiness of a player to his fellow teammates"
   ]
  },
  {
   "cell_type": "markdown",
   "metadata": {},
   "source": [
    "We may use the standard sum function to carry this out, to calculate the toal number of passes, we would use the numpy sum function"
   ]
  },
  {
   "cell_type": "markdown",
   "metadata": {},
   "source": [
    "The function, by default, will calculate the sum of each column, which here represents the number of times a player was passed to"
   ]
  },
  {
   "cell_type": "code",
   "execution_count": 13,
   "metadata": {},
   "outputs": [
    {
     "name": "stdout",
     "output_type": "stream",
     "text": [
      "Player 1 was passed succesffuly to or reclaimed the ball 5.0 times\n",
      "Player 2 was passed succesffuly to or reclaimed the ball 6.0 times\n",
      "Player 3 was passed succesffuly to or reclaimed the ball 15.0 times\n",
      "Player 4 was passed succesffuly to or reclaimed the ball 7.0 times\n",
      "Player 5 was passed succesffuly to or reclaimed the ball 10.0 times\n",
      "Player 6 was passed succesffuly to or reclaimed the ball 18.0 times\n",
      "Player 7 was passed succesffuly to or reclaimed the ball 21.0 times\n",
      "Player 8 was passed succesffuly to or reclaimed the ball 21.0 times\n",
      "Player 9 was passed succesffuly to or reclaimed the ball 19.0 times\n",
      "Player 10 was passed succesffuly to or reclaimed the ball 25.0 times\n",
      "Player 11 was passed succesffuly to or reclaimed the ball 24.0 times\n",
      "Player 12 was passed succesffuly to or reclaimed the ball 20.0 times\n",
      "Player 13 was passed succesffuly to or reclaimed the ball 19.0 times\n",
      "Player 14 was passed succesffuly to or reclaimed the ball 16.0 times\n",
      "Player 15 was passed succesffuly to or reclaimed the ball 15.0 times\n"
     ]
    }
   ],
   "source": [
    "for i in range(0,15):\n",
    "    print(\"Player \" + str(i+1) + \" was passed succesffuly to or reclaimed the ball \" + str(sum(no_misses[0:15,i])) + \" times\")\n"
   ]
  },
  {
   "cell_type": "markdown",
   "metadata": {},
   "source": [
    "To find the successful passes from a player out "
   ]
  },
  {
   "cell_type": "code",
   "execution_count": 286,
   "metadata": {},
   "outputs": [
    {
     "name": "stdout",
     "output_type": "stream",
     "text": [
      "Player 1 has a Weighted-Out Degree of 0.16597510373443983\n",
      "Player 2 has a Weighted-Out Degree of 0.07883817427385892\n",
      "Player 3 has a Weighted-Out Degree of 0.0995850622406639\n",
      "Player 4 has a Weighted-Out Degree of 0.05394190871369295\n",
      "Player 5 has a Weighted-Out Degree of 0.04979253112033195\n",
      "Player 6 has a Weighted-Out Degree of 0.07053941908713693\n",
      "Player 7 has a Weighted-Out Degree of 0.0912863070539419\n",
      "Player 8 has a Weighted-Out Degree of 0.1078838174273859\n",
      "Player 9 has a Weighted-Out Degree of 0.04979253112033195\n",
      "Player 10 has a Weighted-Out Degree of 0.04979253112033195\n",
      "Player 11 has a Weighted-Out Degree of 0.058091286307053944\n",
      "Player 12 has a Weighted-Out Degree of 0.04979253112033195\n",
      "Player 13 has a Weighted-Out Degree of 0.03319502074688797\n",
      "Player 14 has a Weighted-Out Degree of 0.02074688796680498\n",
      "Player 15 has a Weighted-Out Degree of 0.02074688796680498\n"
     ]
    }
   ],
   "source": [
    "wod = []\n",
    "for i in range(0,15):\n",
    "    print(\"Player \" + str(i+1) + \" has a Weighted-Out Degree of \" + str(sum(no_misses[i,])/sum(sum(no_misses[0:15,]))) )\n",
    "    wod.append(sum(no_misses[i,])/sum(sum(no_misses[0:15,])))"
   ]
  },
  {
   "cell_type": "code",
   "execution_count": 287,
   "metadata": {},
   "outputs": [
    {
     "data": {
      "text/plain": [
       "<BarContainer object of 15 artists>"
      ]
     },
     "execution_count": 287,
     "metadata": {},
     "output_type": "execute_result"
    },
    {
     "data": {
      "image/png": "[encoded data removed]",
      "text/plain": [
       "<Figure size 432x288 with 1 Axes>"
      ]
     },
     "metadata": {
      "needs_background": "light"
     },
     "output_type": "display_data"
    }
   ],
   "source": [
    "plt.bar(x,wod)"
   ]
  },
  {
   "cell_type": "code",
   "execution_count": 17,
   "metadata": {},
   "outputs": [
    {
     "name": "stdout",
     "output_type": "stream",
     "text": [
      "The ratio of passes out to received for player 1 is 8.0\n",
      "The ratio of passes out to received for player 2 is 3.1666666666666665\n",
      "The ratio of passes out to received for player 3 is 1.6\n",
      "The ratio of passes out to received for player 4 is 1.8571428571428572\n",
      "The ratio of passes out to received for player 5 is 1.2\n",
      "The ratio of passes out to received for player 6 is 0.9444444444444444\n",
      "The ratio of passes out to received for player 7 is 1.0476190476190477\n",
      "The ratio of passes out to received for player 8 is 1.2380952380952381\n",
      "The ratio of passes out to received for player 9 is 0.631578947368421\n",
      "The ratio of passes out to received for player 10 is 0.48\n",
      "The ratio of passes out to received for player 11 is 0.5833333333333334\n",
      "The ratio of passes out to received for player 12 is 0.6\n",
      "The ratio of passes out to received for player 13 is 0.42105263157894735\n",
      "The ratio of passes out to received for player 14 is 0.3125\n",
      "The ratio of passes out to received for player 15 is 0.3333333333333333\n"
     ]
    }
   ],
   "source": [
    "for i in range(0,15):\n",
    "    print(\"The ratio of passes out to received for player \" +  str(i+1) +  \" is \" + str((um(no_misses[i,])/sum(no_misses[0:15,i])))"
   ]
  },
  {
   "cell_type": "code",
   "execution_count": 283,
   "metadata": {},
   "outputs": [
    {
     "name": "stdout",
     "output_type": "stream",
     "text": [
      "The Weighted-in Degree for player 1 is 0.02074688796680498\n",
      "The Weighted-in Degree for player 2 is 0.024896265560165973\n",
      "The Weighted-in Degree for player 3 is 0.06224066390041494\n",
      "The Weighted-in Degree for player 4 is 0.029045643153526972\n",
      "The Weighted-in Degree for player 5 is 0.04149377593360996\n",
      "The Weighted-in Degree for player 6 is 0.07468879668049792\n",
      "The Weighted-in Degree for player 7 is 0.08713692946058091\n",
      "The Weighted-in Degree for player 8 is 0.08713692946058091\n",
      "The Weighted-in Degree for player 9 is 0.07883817427385892\n",
      "The Weighted-in Degree for player 10 is 0.1037344398340249\n",
      "The Weighted-in Degree for player 11 is 0.0995850622406639\n",
      "The Weighted-in Degree for player 12 is 0.08298755186721991\n",
      "The Weighted-in Degree for player 13 is 0.07883817427385892\n",
      "The Weighted-in Degree for player 14 is 0.06639004149377593\n",
      "The Weighted-in Degree for player 15 is 0.06224066390041494\n"
     ]
    }
   ],
   "source": [
    "wid = []\n",
    "for i in range(0,15):\n",
    "    print(\"The Weighted-in Degree for player \" +  str(i+1) +  \" is \" + str(sum(no_misses[0:15,i])/sum(sum(no_misses[0:15,]))) )\n",
    "    wid.append(sum(no_misses[0:15,i])/sum(sum(no_misses[0:15,])))"
   ]
  },
  {
   "cell_type": "code",
   "execution_count": 285,
   "metadata": {},
   "outputs": [
    {
     "data": {
      "text/plain": [
       "<BarContainer object of 15 artists>"
      ]
     },
     "execution_count": 285,
     "metadata": {},
     "output_type": "execute_result"
    },
    {
     "data": {
      "image/png": "[encoded data removed]",
      "text/plain": [
       "<Figure size 432x288 with 1 Axes>"
      ]
     },
     "metadata": {
      "needs_background": "light"
     },
     "output_type": "display_data"
    }
   ],
   "source": [
    "plt.bar(x,wid)"
   ]
  },
  {
   "cell_type": "code",
   "execution_count": 262,
   "metadata": {},
   "outputs": [
    {
     "name": "stdout",
     "output_type": "stream",
     "text": [
      "gk_network.add_edge('GK', 'LFF' , weight = 0.008298755186721992)\n",
      "gk_network.add_edge('GK', 'RFF' , weight = 0.004149377593360996)\n",
      "gk_network.add_edge('GK', 'LHF' , weight = 0.02074688796680498)\n",
      "gk_network.add_edge('GK', 'CHF' , weight = 0.008298755186721992)\n",
      "gk_network.add_edge('GK', 'RHF' , weight = 0.016597510373443983)\n",
      "gk_network.add_edge('GK', 'LM' , weight = 0.004149377593360996)\n",
      "gk_network.add_edge('GK', 'RM' , weight = 0.012448132780082987)\n",
      "gk_network.add_edge('GK', 'LHB' , weight = 0.008298755186721992)\n",
      "gk_network.add_edge('GK', 'CHB' , weight = 0.008298755186721992)\n",
      "gk_network.add_edge('GK', 'RHB' , weight = 0.012448132780082987)\n",
      "gk_network.add_edge('GK', 'LFB' , weight = 0.02074688796680498)\n",
      "gk_network.add_edge('GK', 'CFB' , weight = 0.04149377593360996)\n",
      "gk_network.add_edge('GK', 'RFB' , weight = 0.02074688796680498)\n",
      "gk_network.add_edge('RFB', 'CFF' , weight = 0.008298755186721992)\n",
      "gk_network.add_edge('RFB', 'RFF' , weight = 0.008298755186721992)\n",
      "gk_network.add_edge('RFB', 'LHF' , weight = 0.004149377593360996)\n",
      "gk_network.add_edge('RFB', 'CHF' , weight = 0.02074688796680498)\n",
      "gk_network.add_edge('RFB', 'RHF' , weight = 0.008298755186721992)\n",
      "gk_network.add_edge('RFB', 'LM' , weight = 0.012448132780082987)\n",
      "gk_network.add_edge('RFB', 'RM' , weight = 0.008298755186721992)\n",
      "gk_network.add_edge('RFB', 'LHB' , weight = 0.012448132780082987)\n",
      "gk_network.add_edge('CFB', 'LFF' , weight = 0.004149377593360996)\n",
      "gk_network.add_edge('CFB', 'CFF' , weight = 0.004149377593360996)\n",
      "gk_network.add_edge('CFB', 'RFF' , weight = 0.004149377593360996)\n",
      "gk_network.add_edge('CFB', 'CHF' , weight = 0.008298755186721992)\n",
      "gk_network.add_edge('CFB', 'RHF' , weight = 0.016597510373443983)\n",
      "gk_network.add_edge('CFB', 'LM' , weight = 0.008298755186721992)\n",
      "gk_network.add_edge('CFB', 'RM' , weight = 0.016597510373443983)\n",
      "gk_network.add_edge('CFB', 'LHB' , weight = 0.024896265560165973)\n",
      "gk_network.add_edge('CFB', 'CHB' , weight = 0.024896265560165973)\n",
      "gk_network.add_edge('CFB', 'LFB' , weight = 0.008298755186721992)\n",
      "gk_network.add_edge('LFB', 'LFF' , weight = 0.004149377593360996)\n",
      "gk_network.add_edge('LFB', 'RFF' , weight = 0.004149377593360996)\n",
      "gk_network.add_edge('LFB', 'RHF' , weight = 0.004149377593360996)\n",
      "gk_network.add_edge('LFB', 'LM' , weight = 0.004149377593360996)\n",
      "gk_network.add_edge('LFB', 'RM' , weight = 0.004149377593360996)\n",
      "gk_network.add_edge('LFB', 'LHB' , weight = 0.012448132780082987)\n",
      "gk_network.add_edge('LFB', 'CHB' , weight = 0.004149377593360996)\n",
      "gk_network.add_edge('LFB', 'RHB' , weight = 0.016597510373443983)\n",
      "gk_network.add_edge('RHB', 'RFF' , weight = 0.004149377593360996)\n",
      "gk_network.add_edge('RHB', 'CHF' , weight = 0.008298755186721992)\n",
      "gk_network.add_edge('RHB', 'RHF' , weight = 0.016597510373443983)\n",
      "gk_network.add_edge('RHB', 'LM' , weight = 0.004149377593360996)\n",
      "gk_network.add_edge('RHB', 'RM' , weight = 0.012448132780082987)\n",
      "gk_network.add_edge('RHB', 'LHB' , weight = 0.004149377593360996)\n",
      "gk_network.add_edge('RHB', 'CHB' , weight = 0.012448132780082987)\n",
      "gk_network.add_edge('CHB', 'RFF' , weight = 0.012448132780082987)\n",
      "gk_network.add_edge('CHB', 'CHF' , weight = 0.016597510373443983)\n",
      "gk_network.add_edge('CHB', 'RHF' , weight = 0.008298755186721992)\n",
      "gk_network.add_edge('CHB', 'LM' , weight = 0.008298755186721992)\n",
      "gk_network.add_edge('CHB', 'RM' , weight = 0.024896265560165973)\n",
      "gk_network.add_edge('CHB', 'LHB' , weight = 0.024896265560165973)\n",
      "gk_network.add_edge('LHB', 'LFF' , weight = 0.02074688796680498)\n",
      "gk_network.add_edge('LHB', 'CFF' , weight = 0.008298755186721992)\n",
      "gk_network.add_edge('LHB', 'RFF' , weight = 0.008298755186721992)\n",
      "gk_network.add_edge('LHB', 'LHF' , weight = 0.016597510373443983)\n",
      "gk_network.add_edge('LHB', 'RHF' , weight = 0.016597510373443983)\n",
      "gk_network.add_edge('LHB', 'LM' , weight = 0.008298755186721992)\n",
      "gk_network.add_edge('LHB', 'RM' , weight = 0.012448132780082987)\n",
      "gk_network.add_edge('RM', 'LFF' , weight = 0.016597510373443983)\n",
      "gk_network.add_edge('RM', 'CFF' , weight = 0.012448132780082987)\n",
      "gk_network.add_edge('RM', 'RFF' , weight = 0.012448132780082987)\n",
      "gk_network.add_edge('RM', 'LHF' , weight = 0.016597510373443983)\n",
      "gk_network.add_edge('RM', 'CHF' , weight = 0.008298755186721992)\n",
      "gk_network.add_edge('RM', 'RHF' , weight = 0.016597510373443983)\n",
      "gk_network.add_edge('RM', 'LM' , weight = 0.02074688796680498)\n",
      "gk_network.add_edge('LM', 'CFF' , weight = 0.004149377593360996)\n",
      "gk_network.add_edge('LM', 'LHF' , weight = 0.016597510373443983)\n",
      "gk_network.add_edge('LM', 'CHF' , weight = 0.029045643153526972)\n",
      "gk_network.add_edge('LM', 'RHF' , weight = 0.008298755186721992)\n",
      "gk_network.add_edge('RHF', 'LFF' , weight = 0.004149377593360996)\n",
      "gk_network.add_edge('RHF', 'RFF' , weight = 0.004149377593360996)\n",
      "gk_network.add_edge('RHF', 'LHF' , weight = 0.008298755186721992)\n",
      "gk_network.add_edge('RHF', 'CHF' , weight = 0.024896265560165973)\n",
      "gk_network.add_edge('CHF', 'CFF' , weight = 0.012448132780082987)\n",
      "gk_network.add_edge('CHF', 'RFF' , weight = 0.012448132780082987)\n",
      "gk_network.add_edge('CHF', 'LHF' , weight = 0.008298755186721992)\n",
      "gk_network.add_edge('LHF', 'LFF' , weight = 0.008298755186721992)\n",
      "gk_network.add_edge('LHF', 'CFF' , weight = 0.016597510373443983)\n",
      "gk_network.add_edge('LHF', 'RFF' , weight = 0.016597510373443983)\n",
      "gk_network.add_edge('RFF', 'LFF' , weight = 0.008298755186721992)\n",
      "gk_network.add_edge('RFF', 'CFF' , weight = 0.012448132780082987)\n",
      "gk_network.add_edge('CFF', 'LFF' , weight = 0.008298755186721992)\n"
     ]
    }
   ],
   "source": [
    "for i in range(0,14):\n",
    "    for j in range(14,i,-1):\n",
    "        nu_weight = ((no_misses[i,j] + no_misses[j,i]))/sum(sum(no_misses[0:15,]))\n",
    "        if(nu_weight !=0):\n",
    "            if(i != j):\n",
    "                print(\"gk_network.add_edge('\" + play_array[i] +  \"', '\" + play_array[j] + \"' , weight = \" + str(nu_weight) + \")\" )"
   ]
  },
  {
   "cell_type": "code",
   "execution_count": 263,
   "metadata": {},
   "outputs": [],
   "source": [
    "players = ['GK','RFB','CFB','LFB','RHB','CHB','LHB','RM','LM','RHF','CHF','LHF','RFF','CFF','LFF']\n",
    "\n",
    "player_edge_list = []\n",
    "\n",
    "for player in players:\n",
    "    myindex = players.index(player)\n",
    "    newlist = players[:myindex]+players[myindex+1:]   #make a new temp list without the player in it\n",
    "    for item in newlist:\n",
    "        mytuple = (player, item)\n",
    "        backtuple = (item, player)\n",
    "        if backtuple not in player_edge_list: #remove any reversed duplicates\n",
    "            player_edge_list.append(mytuple)\n",
    "\n",
    "gk_network = nx.Graph()\n",
    "gk_network.add_node('GK', pos = (-5,0))\n",
    "gk_network.add_node('RFB', pos = (-2,-3))\n",
    "gk_network.add_node('CFB', pos = (-2,0))\n",
    "gk_network.add_node('LFB', pos = (-2,3))\n",
    "gk_network.add_node('RHB', pos = (1,-3))\n",
    "gk_network.add_node('CHB', pos = (1,0))\n",
    "gk_network.add_node('LHB', pos = (1,3))\n",
    "gk_network.add_node('RM', pos = (4,1.5))\n",
    "gk_network.add_node('LM', pos = (4,-1.5))\n",
    "gk_network.add_node('RHF', pos = (7,-3))\n",
    "gk_network.add_node('CHF', pos = (7,0))\n",
    "gk_network.add_node('LHF', pos = (7,3))\n",
    "gk_network.add_node('RFF', pos = (10,-3))\n",
    "gk_network.add_node('CFF', pos = (10,0))\n",
    "gk_network.add_node('LFF', pos = (10,3))\n",
    "gk_network.add_edge('GK', 'LFF' , weight = 0.008298755186721992)\n",
    "gk_network.add_edge('GK', 'RFF' , weight = 0.004149377593360996)\n",
    "gk_network.add_edge('GK', 'LHF' , weight = 0.02074688796680498)\n",
    "gk_network.add_edge('GK', 'CHF' , weight = 0.008298755186721992)\n",
    "gk_network.add_edge('GK', 'RHF' , weight = 0.016597510373443983)\n",
    "gk_network.add_edge('GK', 'LM' , weight = 0.004149377593360996)\n",
    "gk_network.add_edge('GK', 'RM' , weight = 0.012448132780082987)\n",
    "gk_network.add_edge('GK', 'LHB' , weight = 0.008298755186721992)\n",
    "gk_network.add_edge('GK', 'CHB' , weight = 0.008298755186721992)\n",
    "gk_network.add_edge('GK', 'RHB' , weight = 0.012448132780082987)\n",
    "gk_network.add_edge('GK', 'LFB' , weight = 0.02074688796680498)\n",
    "gk_network.add_edge('GK', 'CFB' , weight = 0.04149377593360996)\n",
    "gk_network.add_edge('GK', 'RFB' , weight = 0.02074688796680498)\n",
    "gk_network.add_edge('RFB', 'CFF' , weight = 0.008298755186721992)\n",
    "gk_network.add_edge('RFB', 'RFF' , weight = 0.008298755186721992)\n",
    "gk_network.add_edge('RFB', 'LHF' , weight = 0.004149377593360996)\n",
    "gk_network.add_edge('RFB', 'CHF' , weight = 0.02074688796680498)\n",
    "gk_network.add_edge('RFB', 'RHF' , weight = 0.008298755186721992)\n",
    "gk_network.add_edge('RFB', 'LM' , weight = 0.012448132780082987)\n",
    "gk_network.add_edge('RFB', 'RM' , weight = 0.008298755186721992)\n",
    "gk_network.add_edge('RFB', 'LHB' , weight = 0.012448132780082987)\n",
    "gk_network.add_edge('CFB', 'LFF' , weight = 0.004149377593360996)\n",
    "gk_network.add_edge('CFB', 'CFF' , weight = 0.004149377593360996)\n",
    "gk_network.add_edge('CFB', 'RFF' , weight = 0.004149377593360996)\n",
    "gk_network.add_edge('CFB', 'CHF' , weight = 0.008298755186721992)\n",
    "gk_network.add_edge('CFB', 'RHF' , weight = 0.016597510373443983)\n",
    "gk_network.add_edge('CFB', 'LM' , weight = 0.008298755186721992)\n",
    "gk_network.add_edge('CFB', 'RM' , weight = 0.016597510373443983)\n",
    "gk_network.add_edge('CFB', 'LHB' , weight = 0.024896265560165973)\n",
    "gk_network.add_edge('CFB', 'CHB' , weight = 0.024896265560165973)\n",
    "gk_network.add_edge('CFB', 'LFB' , weight = 0.008298755186721992)\n",
    "gk_network.add_edge('LFB', 'LFF' , weight = 0.004149377593360996)\n",
    "gk_network.add_edge('LFB', 'RFF' , weight = 0.004149377593360996)\n",
    "gk_network.add_edge('LFB', 'RHF' , weight = 0.004149377593360996)\n",
    "gk_network.add_edge('LFB', 'LM' , weight = 0.004149377593360996)\n",
    "gk_network.add_edge('LFB', 'RM' , weight = 0.004149377593360996)\n",
    "gk_network.add_edge('LFB', 'LHB' , weight = 0.012448132780082987)\n",
    "gk_network.add_edge('LFB', 'CHB' , weight = 0.004149377593360996)\n",
    "gk_network.add_edge('LFB', 'RHB' , weight = 0.016597510373443983)\n",
    "gk_network.add_edge('RHB', 'RFF' , weight = 0.004149377593360996)\n",
    "gk_network.add_edge('RHB', 'CHF' , weight = 0.008298755186721992)\n",
    "gk_network.add_edge('RHB', 'RHF' , weight = 0.016597510373443983)\n",
    "gk_network.add_edge('RHB', 'LM' , weight = 0.004149377593360996)\n",
    "gk_network.add_edge('RHB', 'RM' , weight = 0.012448132780082987)\n",
    "gk_network.add_edge('RHB', 'LHB' , weight = 0.004149377593360996)\n",
    "gk_network.add_edge('RHB', 'CHB' , weight = 0.012448132780082987)\n",
    "gk_network.add_edge('CHB', 'RFF' , weight = 0.012448132780082987)\n",
    "gk_network.add_edge('CHB', 'CHF' , weight = 0.016597510373443983)\n",
    "gk_network.add_edge('CHB', 'RHF' , weight = 0.008298755186721992)\n",
    "gk_network.add_edge('CHB', 'LM' , weight = 0.008298755186721992)\n",
    "gk_network.add_edge('CHB', 'RM' , weight = 0.024896265560165973)\n",
    "gk_network.add_edge('CHB', 'LHB' , weight = 0.024896265560165973)\n",
    "gk_network.add_edge('LHB', 'LFF' , weight = 0.02074688796680498)\n",
    "gk_network.add_edge('LHB', 'CFF' , weight = 0.008298755186721992)\n",
    "gk_network.add_edge('LHB', 'RFF' , weight = 0.008298755186721992)\n",
    "gk_network.add_edge('LHB', 'LHF' , weight = 0.016597510373443983)\n",
    "gk_network.add_edge('LHB', 'RHF' , weight = 0.016597510373443983)\n",
    "gk_network.add_edge('LHB', 'LM' , weight = 0.008298755186721992)\n",
    "gk_network.add_edge('LHB', 'RM' , weight = 0.012448132780082987)\n",
    "gk_network.add_edge('RM', 'LFF' , weight = 0.016597510373443983)\n",
    "gk_network.add_edge('RM', 'CFF' , weight = 0.012448132780082987)\n",
    "gk_network.add_edge('RM', 'RFF' , weight = 0.012448132780082987)\n",
    "gk_network.add_edge('RM', 'LHF' , weight = 0.016597510373443983)\n",
    "gk_network.add_edge('RM', 'CHF' , weight = 0.008298755186721992)\n",
    "gk_network.add_edge('RM', 'RHF' , weight = 0.016597510373443983)\n",
    "gk_network.add_edge('RM', 'LM' , weight = 0.02074688796680498)\n",
    "gk_network.add_edge('LM', 'CFF' , weight = 0.004149377593360996)\n",
    "gk_network.add_edge('LM', 'LHF' , weight = 0.016597510373443983)\n",
    "gk_network.add_edge('LM', 'CHF' , weight = 0.029045643153526972)\n",
    "gk_network.add_edge('LM', 'RHF' , weight = 0.008298755186721992)\n",
    "gk_network.add_edge('RHF', 'LFF' , weight = 0.004149377593360996)\n",
    "gk_network.add_edge('RHF', 'RFF' , weight = 0.004149377593360996)\n",
    "gk_network.add_edge('RHF', 'LHF' , weight = 0.008298755186721992)\n",
    "gk_network.add_edge('RHF', 'CHF' , weight = 0.024896265560165973)\n",
    "gk_network.add_edge('CHF', 'CFF' , weight = 0.012448132780082987)\n",
    "gk_network.add_edge('CHF', 'RFF' , weight = 0.012448132780082987)\n",
    "gk_network.add_edge('CHF', 'LHF' , weight = 0.008298755186721992)\n",
    "gk_network.add_edge('LHF', 'LFF' , weight = 0.008298755186721992)\n",
    "gk_network.add_edge('LHF', 'CFF' , weight = 0.016597510373443983)\n",
    "gk_network.add_edge('LHF', 'RFF' , weight = 0.016597510373443983)\n",
    "gk_network.add_edge('RFF', 'LFF' , weight = 0.008298755186721992)\n",
    "gk_network.add_edge('RFF', 'CFF' , weight = 0.012448132780082987)\n",
    "gk_network.add_edge('CFF', 'LFF' , weight = 0.008298755186721992)\n",
    "\n"
   ]
  },
  {
   "cell_type": "code",
   "execution_count": 264,
   "metadata": {},
   "outputs": [
    {
     "data": {
      "text/plain": [
       "83"
      ]
     },
     "execution_count": 264,
     "metadata": {},
     "output_type": "execute_result"
    }
   ],
   "source": [
    "gk_network.number_of_edges()"
   ]
  },
  {
   "cell_type": "code",
   "execution_count": 265,
   "metadata": {},
   "outputs": [
    {
     "data": {
      "image/png": "[encoded data removed]",
      "text/plain": [
       "<Figure size 432x288 with 1 Axes>"
      ]
     },
     "metadata": {},
     "output_type": "display_data"
    }
   ],
   "source": [
    "nx.draw(gk_network, nx.get_node_attributes(gk_network, 'pos'), with_labels=True, node_size = 700)"
   ]
  },
  {
   "cell_type": "markdown",
   "metadata": {},
   "source": [
    "Now, a potentially more insigthful visual analysis, considering players in their groupings, as outlined by the rules of the game"
   ]
  },
  {
   "cell_type": "code",
   "execution_count": 165,
   "metadata": {},
   "outputs": [],
   "source": [
    "gk_fb = sum(total_matrix[1,2:5])\n",
    "gk_hb = sum(total_matrix[1,5:8])\n",
    "gk_mf = sum(total_matrix[1,8:10])\n",
    "gk_hf = sum(total_matrix[1,10:13])\n",
    "gk_ff = sum(total_matrix[1,13:16])\n",
    "gk_tot = sum(total_matrix[1,1:16])\n",
    "\n",
    "gk_array = [gk_fb,gk_hb,gk_mf,gk_hf,gk_ff,gk_tot]\n",
    "\n",
    "fb_gk = sum(total_matrix[2:5,1])\n",
    "fb_hb = sum(sum(total_matrix[2:5,5:8]))\n",
    "fb_mf = sum(sum(total_matrix[2:5,8:10]))\n",
    "fb_hf = sum(sum(total_matrix[2:5,10:13]))\n",
    "fb_ff = sum(sum(total_matrix[2:5,13:16]))\n",
    "fb_tot = sum(sum(total_matrix[2:5,1:16]))\n",
    "\n",
    "fb_array = [fb_gk, fb_hb, fb_mf, fb_hf, fb_ff, fb_tot]\n",
    "\n",
    "hb_gk = sum(total_matrix[5:8,1])\n",
    "hb_fb = sum(sum(total_matrix[5:8,2:5]))\n",
    "hb_mf = sum(sum(total_matrix[5:8,8:10]))\n",
    "hb_hf = sum(sum(total_matrix[5:8,10:13]))\n",
    "hb_ff = sum(sum(total_matrix[5:8,13:16]))\n",
    "hb_tot = sum(sum(total_matrix[5:8,1:16]))\n",
    "\n",
    "hb_array = [hb_gk, hb_fb, hb_mf,hb_hf, hb_ff, hb_tot]\n",
    "\n",
    "mf_gk = sum(total_matrix[8:10,1])\n",
    "mf_fb = sum(sum(total_matrix[8:10,2:5]))\n",
    "mf_hb = sum(sum(total_matrix[8:10,5:8]))\n",
    "mf_hf = sum(sum(total_matrix[8:10,10:13]))\n",
    "mf_ff = sum(sum(total_matrix[8:10,13:16]))\n",
    "mf_tot = sum(sum(total_matrix[8:10,1:16]))\n",
    "\n",
    "mf_array = [mf_gk, mf_fb, mf_hb, mf_hf, mf_ff, mf_tot]\n",
    "\n",
    "hf_gk = sum(total_matrix[10:13,1])\n",
    "hf_fb = sum(sum(total_matrix[10:13,2:5]))\n",
    "hf_hb = sum(sum(total_matrix[10:13,5:8]))\n",
    "hf_mf = sum(sum(total_matrix[10:13,8:10]))\n",
    "hf_ff = sum(sum(total_matrix[10:13,13:16]))\n",
    "hf_tot = sum(sum(total_matrix[10:13,1:16]))\n",
    "\n",
    "hf_array = [hf_gk, hf_fb, hf_hb, hf_mf, hf_ff, hf_tot]\n",
    "\n",
    "ff_gk = sum(total_matrix[13:16,1])\n",
    "ff_hb = sum(sum(total_matrix[13:16,5:8]))\n",
    "ff_mf = sum(sum(total_matrix[13:16,8:10]))\n",
    "ff_hf = sum(sum(total_matrix[13:16,10:13]))\n",
    "ff_fb = sum(sum(total_matrix[13:16,2:5]))\n",
    "ff_tot = sum(sum(total_matrix[13:16,1:16]))\n",
    "\n",
    "ff_array = [ff_gk, ff_fb, ff_hb,ff_mf,ff_hf,ff_tot]"
   ]
  },
  {
   "cell_type": "code",
   "execution_count": 166,
   "metadata": {},
   "outputs": [],
   "source": [
    "levels = [\"GK\",\"FBL\", \"HBL\", \"MFL\", \"HFL\", \"FFL\"]\n",
    "\n",
    "levels_edge_list = []\n",
    "\n",
    "for level in levels:\n",
    "    myindex = levels.index(level)\n",
    "    newlist = levels[:myindex]+levels[myindex+1:]   #make a new temp list without the player in it\n",
    "    for item in newlist:\n",
    "        mytuple = (level, item)\n",
    "        backtuple = (item, level)\n",
    "        if backtuple not in levels_edge_list: #remove any reversed duplicates\n",
    "            levels_edge_list.append(mytuple)\n",
    "            \n",
    "no_gk = [\"FBL\", \"HBL\", \"MFL\", \"HFL\", \"FFL\"]\n",
    "no_fb = [\"GK\",\"HBL\", \"MFL\", \"HFL\", \"FFL\"]\n",
    "no_hb = [\"GK\",\"FBL\", \"MFL\", \"HFL\", \"FFL\"]\n",
    "no_mf = [\"GK\",\"FBL\", \"HBL\", \"HFL\", \"FFL\"]\n",
    "no_hf = [\"GK\",\"FBL\", \"HBL\", \"MFL\", \"FFL\"]\n",
    "no_ff = [\"GK\",\"FBL\", \"HBL\", \"MFL\", \"HFL\"]"
   ]
  },
  {
   "cell_type": "code",
   "execution_count": 185,
   "metadata": {},
   "outputs": [],
   "source": [
    "weights = []\n",
    "for i in range(0,5):\n",
    "    rat = gk_array[i]/sum(sum(no_misses[0:15,]))\n",
    "    weights.append(rat)  \n",
    "for i in range(0,5):\n",
    "    rat = fb_array[i]/sum(sum(no_misses[0:15,]))\n",
    "    weights.append(rat) \n",
    "for i in range(0,5):\n",
    "    rat = hb_array[i]/sum(sum(no_misses[0:15,]))\n",
    "    weights.append(rat) \n",
    "for i in range(0,5):\n",
    "    rat = mf_array[i]/sum(sum(no_misses[0:15,]))\n",
    "    weights.append(rat)     \n",
    "for i in range(0,5):\n",
    "    rat = hf_array[i]/sum(sum(no_misses[0:15,]))\n",
    "    weights.append(rat)     \n",
    "for i in range(0,5):\n",
    "    rat = ff_array[i]/sum(sum(no_misses[0:15,]))\n",
    "    weights.append(rat)     \n",
    "\n",
    "weights = 600000*weights"
   ]
  },
  {
   "cell_type": "code",
   "execution_count": 188,
   "metadata": {},
   "outputs": [],
   "source": [
    "levels_net = nx.Graph(levels_edge_list)\n",
    "levels_net.add_node('GK', pos = (-5,0))\n",
    "levels_net.add_node('FBL', pos = (-2.5, 2.5))\n",
    "levels_net.add_node('HBL', pos = (-2.5,-2.5))\n",
    "levels_net.add_node('MFL', pos = (0,0))\n",
    "levels_net.add_node('HFL', pos = (2.5,2.5))\n",
    "levels_net.add_node('FFL', pos = (2.5,-2.5))\n"
   ]
  },
  {
   "cell_type": "code",
   "execution_count": 189,
   "metadata": {},
   "outputs": [
    {
     "data": {
      "image/png": "[encoded data removed]",
      "text/plain": [
       "<Figure size 432x288 with 1 Axes>"
      ]
     },
     "metadata": {},
     "output_type": "display_data"
    }
   ],
   "source": [
    "pos=nx.get_node_attributes(levels_net,'pos')\n",
    "nx.draw(levels_net,pos)\n",
    "labels = nx.get_edge_attributes(levels_net,'weight')\n",
    "nx.draw(levels_net,pos,with_labels = True)"
   ]
  },
  {
   "cell_type": "code",
   "execution_count": 121,
   "metadata": {},
   "outputs": [
    {
     "name": "stdout",
     "output_type": "stream",
     "text": [
      "levels_net.add_edge('GK', 'FBL' , weight = 0.06639004149377593)\n",
      "levels_net.add_edge('GK', 'HBL' , weight = 0.029045643153526972)\n",
      "levels_net.add_edge('GK', 'MFL' , weight = 0.012448132780082987)\n",
      "levels_net.add_edge('GK', 'HFL' , weight = 0.04564315352697095)\n",
      "levels_net.add_edge('GK', 'FFL' , weight = 0.012448132780082987)\n",
      "levels_net.add_edge('FBL', 'GK' , weight = 0.016597510373443983)\n",
      "levels_net.add_edge('FBL', 'HBL' , weight = 0.07053941908713693)\n",
      "levels_net.add_edge('FBL', 'MFL' , weight = 0.04564315352697095)\n",
      "levels_net.add_edge('FBL', 'HFL' , weight = 0.05394190871369295)\n",
      "levels_net.add_edge('FBL', 'FFL' , weight = 0.03734439834024896)\n",
      "levels_net.add_edge('HBL', 'GK' , weight = 0.0)\n",
      "levels_net.add_edge('HBL', 'FBL' , weight = 0.024896265560165973)\n",
      "levels_net.add_edge('HBL', 'MFL' , weight = 0.03734439834024896)\n",
      "levels_net.add_edge('HBL', 'HFL' , weight = 0.058091286307053944)\n",
      "levels_net.add_edge('HBL', 'FFL' , weight = 0.04979253112033195)\n",
      "levels_net.add_edge('MFL', 'GK' , weight = 0.004149377593360996)\n",
      "levels_net.add_edge('MFL', 'FBL' , weight = 0.008298755186721992)\n",
      "levels_net.add_edge('MFL', 'HBL' , weight = 0.03319502074688797)\n",
      "levels_net.add_edge('MFL', 'HFL' , weight = 0.058091286307053944)\n",
      "levels_net.add_edge('MFL', 'FFL' , weight = 0.03319502074688797)\n",
      "levels_net.add_edge('HFL', 'GK' , weight = 0.0)\n",
      "levels_net.add_edge('HFL', 'FBL' , weight = 0.008298755186721992)\n",
      "levels_net.add_edge('HFL', 'HBL' , weight = 0.024896265560165973)\n",
      "levels_net.add_edge('HFL', 'MFL' , weight = 0.03734439834024896)\n",
      "levels_net.add_edge('HFL', 'FFL' , weight = 0.04564315352697095)\n",
      "levels_net.add_edge('FFL', 'GK' , weight = 0.0)\n",
      "levels_net.add_edge('FFL', 'FBL' , weight = 0.0)\n",
      "levels_net.add_edge('FFL', 'HBL' , weight = 0.004149377593360996)\n",
      "levels_net.add_edge('FFL', 'MFL' , weight = 0.012448132780082987)\n",
      "levels_net.add_edge('FFL', 'HFL' , weight = 0.029045643153526972)\n"
     ]
    }
   ],
   "source": [
    "for i in range(0,5):\n",
    "        rat = gk_array[i]/sum(sum(no_misses[0:15,]))\n",
    "        print(\"levels_net.add_edge('\" + levels[0] + \"', '\" + levels[i+1] + \"' , weight = \" + str(rat ) + \")\")\n",
    "\n",
    "for i in range(0,5):\n",
    "        rat = fb_array[i]/sum(sum(no_misses[0:15,]))\n",
    "        print(\"levels_net.add_edge('\" + levels[1] + \"', '\" + no_fb[i] + \"' , weight = \" + str(rat ) + \")\")        \n",
    "for i in range(0,5):\n",
    "        rat = hb_array[i]/sum(sum(no_misses[0:15,]))\n",
    "        print(\"levels_net.add_edge('\" + levels[2] + \"', '\" + no_hb[i] + \"' , weight = \" + str(rat ) + \")\")\n",
    "for i in range(0,5):\n",
    "        rat = mf_array[i]/sum(sum(no_misses[0:15,]))\n",
    "        print(\"levels_net.add_edge('\" + levels[3] + \"', '\" + no_mf[i] + \"' , weight = \" + str(rat ) + \")\")\n",
    "for i in range(0,5):\n",
    "        rat = hf_array[i]/sum(sum(no_misses[0:15,]))\n",
    "        print(\"levels_net.add_edge('\" + levels[4] + \"', '\" + no_hf[i] + \"' , weight = \" + str(rat ) + \")\")\n",
    "for i in range(0,5):\n",
    "        rat = ff_array[i]/sum(sum(no_misses[0:15,]))\n",
    "        print(\"levels_net.add_edge('\" + levels[5] + \"', '\" + no_ff[i] + \"' , weight = \" + str(rat ) + \")\")\n"
   ]
  },
  {
   "cell_type": "code",
   "execution_count": 266,
   "metadata": {},
   "outputs": [],
   "source": [
    "levels_net = nx.Graph(levels_edge_list)\n",
    "levels_net.add_edge('GK', 'FBL' , weight = 0.06639004149377593)\n",
    "levels_net.add_edge('GK', 'HBL' , weight = 0.029045643153526972)\n",
    "levels_net.add_edge('GK', 'MFL' , weight = 0.012448132780082987)\n",
    "levels_net.add_edge('GK', 'HFL' , weight = 0.04564315352697095)\n",
    "levels_net.add_edge('GK', 'FFL' , weight = 0.012448132780082987)\n",
    "levels_net.add_edge('FBL', 'GK' , weight = 0.016597510373443983)\n",
    "levels_net.add_edge('FBL', 'HBL' , weight = 0.07053941908713693)\n",
    "levels_net.add_edge('FBL', 'MFL' , weight = 0.04564315352697095)\n",
    "levels_net.add_edge('FBL', 'HFL' , weight = 0.05394190871369295)\n",
    "levels_net.add_edge('FBL', 'FFL' , weight = 0.03734439834024896)\n",
    "levels_net.add_edge('HBL', 'GK' , weight = 0.0)\n",
    "levels_net.add_edge('HBL', 'FBL' , weight = 0.024896265560165973)\n",
    "levels_net.add_edge('HBL', 'MFL' , weight = 0.03734439834024896)\n",
    "levels_net.add_edge('HBL', 'HFL' , weight = 0.058091286307053944)\n",
    "levels_net.add_edge('HBL', 'FFL' , weight = 0.04979253112033195)\n",
    "levels_net.add_edge('MFL', 'GK' , weight = 0.004149377593360996)\n",
    "levels_net.add_edge('MFL', 'FBL' , weight = 0.008298755186721992)\n",
    "levels_net.add_edge('MFL', 'HBL' , weight = 0.03319502074688797)\n",
    "levels_net.add_edge('MFL', 'HFL' , weight = 0.058091286307053944)\n",
    "levels_net.add_edge('MFL', 'FFL' , weight = 0.03319502074688797)\n",
    "levels_net.add_edge('HFL', 'GK' , weight = 0.0)\n",
    "levels_net.add_edge('HFL', 'FBL' , weight = 0.008298755186721992)\n",
    "levels_net.add_edge('HFL', 'HBL' , weight = 0.024896265560165973)\n",
    "levels_net.add_edge('HFL', 'MFL' , weight = 0.03734439834024896)\n",
    "levels_net.add_edge('HFL', 'FFL' , weight = 0.04564315352697095)\n",
    "levels_net.add_edge('FFL', 'GK' , weight = 0.0)\n",
    "levels_net.add_edge('FFL', 'FBL' , weight = 0.0)\n",
    "levels_net.add_edge('FFL', 'HBL' , weight = 0.004149377593360996)\n",
    "levels_net.add_edge('FFL', 'MFL' , weight = 0.012448132780082987)\n",
    "levels_net.add_edge('FFL', 'HFL' , weight = 0.029045643153526972)"
   ]
  },
  {
   "cell_type": "code",
   "execution_count": 274,
   "metadata": {},
   "outputs": [
    {
     "data": {
      "text/plain": [
       "{'GK': 0.9333333333333333,\n",
       " 'RFB': 0.7368421052631579,\n",
       " 'CFB': 0.8235294117647058,\n",
       " 'LFB': 0.7777777777777778,\n",
       " 'RHB': 0.7368421052631579,\n",
       " 'CHB': 0.7777777777777778,\n",
       " 'LHB': 0.9333333333333333,\n",
       " 'RM': 1.0,\n",
       " 'LM': 0.875,\n",
       " 'RHF': 0.9333333333333333,\n",
       " 'CHF': 0.8235294117647058,\n",
       " 'LHF': 0.7777777777777778,\n",
       " 'RFF': 0.9333333333333333,\n",
       " 'CFF': 0.7368421052631579,\n",
       " 'LFF': 0.7368421052631579}"
      ]
     },
     "execution_count": 274,
     "metadata": {},
     "output_type": "execute_result"
    }
   ],
   "source": [
    "c = nx.closeness_centrality(gk_network)\n",
    "c"
   ]
  },
  {
   "cell_type": "markdown",
   "metadata": {},
   "source": [
    "Kolmogorov-Smirnov tests of normality "
   ]
  },
  {
   "cell_type": "code",
   "execution_count": 215,
   "metadata": {},
   "outputs": [
    {
     "data": {
      "text/plain": [
       "KstestResult(statistic=0.7105832013851541, pvalue=3.67773863817296e-08)"
      ]
     },
     "execution_count": 215,
     "metadata": {},
     "output_type": "execute_result"
    }
   ],
   "source": [
    "from scipy.stats import kstest\n",
    "from scipy.stats import levene\n",
    "#perform Kolmogorov-Smirnov test\n",
    "kstest(no_misses, 'norm')\n"
   ]
  },
  {
   "cell_type": "markdown",
   "metadata": {},
   "source": [
    "Levene Test for variances"
   ]
  },
  {
   "cell_type": "code",
   "execution_count": 212,
   "metadata": {},
   "outputs": [
    {
     "data": {
      "text/plain": [
       "LeveneResult(statistic=1.8858615611192922, pvalue=0.029853779719125062)"
      ]
     },
     "execution_count": 212,
     "metadata": {},
     "output_type": "execute_result"
    }
   ],
   "source": [
    "levene(no_misses[0,0:14],\n",
    "no_misses[1,0:14],\n",
    "no_misses[2,0:14],\n",
    "no_misses[3,0:14],\n",
    "no_misses[4,0:14],\n",
    "no_misses[5,0:14],\n",
    "no_misses[6,0:14],\n",
    "no_misses[7,0:14],\n",
    "no_misses[8,0:14],\n",
    "no_misses[9,0:14],\n",
    "no_misses[10,0:14],\n",
    "no_misses[11,0:14],\n",
    "no_misses[12,0:14],\n",
    "no_misses[13,0:14],\n",
    "no_misses[14,0:14],center = 'median')"
   ]
  },
  {
   "cell_type": "markdown",
   "metadata": {},
   "source": [
    "$\\frac{C_{WID}}{C_{WOD}}$ Ratio"
   ]
  },
  {
   "cell_type": "code",
   "execution_count": 219,
   "metadata": {},
   "outputs": [
    {
     "name": "stdout",
     "output_type": "stream",
     "text": [
      "The ratio of passes received to passes out for player 1 is 0.125\n",
      "The ratio of passes received to passes out for player 2 is 0.3157894736842105\n",
      "The ratio of passes received to passes out for player 3 is 0.625\n",
      "The ratio of passes received to passes out for player 4 is 0.5384615384615384\n",
      "The ratio of passes received to passes out for player 5 is 0.8333333333333334\n",
      "The ratio of passes received to passes out for player 6 is 1.0588235294117647\n",
      "The ratio of passes received to passes out for player 7 is 0.9545454545454546\n",
      "The ratio of passes received to passes out for player 8 is 0.8076923076923077\n",
      "The ratio of passes received to passes out for player 9 is 1.5833333333333333\n",
      "The ratio of passes received to passes out for player 10 is 2.0833333333333335\n",
      "The ratio of passes received to passes out for player 11 is 1.7142857142857142\n",
      "The ratio of passes received to passes out for player 12 is 1.6666666666666667\n",
      "The ratio of passes received to passes out for player 13 is 2.375\n",
      "The ratio of passes received to passes out for player 14 is 3.2\n",
      "The ratio of passes received to passes out for player 15 is 3.0\n"
     ]
    }
   ],
   "source": [
    "for i in range(0,15):\n",
    "    print(\"The ratio of passes received to passes out for player \" +  str(i+1) +  \" is \" + str(sum(no_misses[0:15,i])/sum(no_misses[i,])))"
   ]
  },
  {
   "cell_type": "code",
   "execution_count": 238,
   "metadata": {},
   "outputs": [],
   "source": [
    "ratio = []\n",
    "for i in range(0,15):\n",
    "    temp_rat = sum(no_misses[0:15,i])/sum(no_misses[i,])\n",
    "    ratio.append(temp_rat)"
   ]
  },
  {
   "cell_type": "code",
   "execution_count": 236,
   "metadata": {},
   "outputs": [],
   "source": [
    "x = np.linspace(1,15,15)"
   ]
  },
  {
   "cell_type": "code",
   "execution_count": 240,
   "metadata": {},
   "outputs": [
    {
     "data": {
      "text/plain": [
       "<BarContainer object of 15 artists>"
      ]
     },
     "execution_count": 240,
     "metadata": {},
     "output_type": "execute_result"
    },
    {
     "data": {
      "image/png": "[encoded data removed]",
      "text/plain": [
       "<Figure size 432x288 with 1 Axes>"
      ]
     },
     "metadata": {
      "needs_background": "light"
     },
     "output_type": "display_data"
    }
   ],
   "source": [
    "plt.bar(x,ratio)"
   ]
  },
  {
   "cell_type": "markdown",
   "metadata": {},
   "source": [
    "Check for differences between areas of the pitch"
   ]
  },
  {
   "cell_type": "code",
   "execution_count": 249,
   "metadata": {},
   "outputs": [],
   "source": [
    "rhs = ratio[1] + ratio[4] + ratio[7] + ratio[9] + ratio[12] \n",
    "centre = ratio[0] + ratio[2] + ratio[5] + ratio[10]  + ratio[13]\n",
    "lhs = ratio[3] + ratio[6] + ratio[8] + ratio[11] + ratio[14]"
   ]
  },
  {
   "cell_type": "code",
   "execution_count": 268,
   "metadata": {},
   "outputs": [
    {
     "data": {
      "text/plain": [
       "0.8285086729014906"
      ]
     },
     "execution_count": 268,
     "metadata": {},
     "output_type": "execute_result"
    }
   ],
   "source": [
    "rhs/lhs"
   ]
  },
  {
   "cell_type": "code",
   "execution_count": 269,
   "metadata": {},
   "outputs": [
    {
     "data": {
      "text/plain": [
       "0.954193694540515"
      ]
     },
     "execution_count": 269,
     "metadata": {},
     "output_type": "execute_result"
    }
   ],
   "source": [
    "rhs/centre"
   ]
  },
  {
   "cell_type": "code",
   "execution_count": 270,
   "metadata": {},
   "outputs": [
    {
     "data": {
      "text/plain": [
       "1.1517003089404814"
      ]
     },
     "execution_count": 270,
     "metadata": {},
     "output_type": "execute_result"
    }
   ],
   "source": [
    "lhs/centre"
   ]
  }
 ],
 "metadata": {
  "kernelspec": {
   "display_name": "Python 3",
   "language": "python",
   "name": "python3"
  },
  "language_info": {
   "codemirror_mode": {
    "name": "ipython",
    "version": 3
   },
   "file_extension": ".py",
   "mimetype": "text/x-python",
   "name": "python",
   "nbconvert_exporter": "python",
   "pygments_lexer": "ipython3",
   "version": "3.8.5"
  }
 },
 "nbformat": 4,
 "nbformat_minor": 4
}
